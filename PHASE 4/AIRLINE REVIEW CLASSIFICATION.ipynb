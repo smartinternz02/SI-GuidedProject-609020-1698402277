{
 "cells": [
  {
   "cell_type": "markdown",
   "id": "d7a5e0e9",
   "metadata": {},
   "source": [
    "# IMPORTING THE LIBRARIES"
   ]
  },
  {
   "cell_type": "code",
   "execution_count": 1,
   "id": "096e14f9",
   "metadata": {},
   "outputs": [],
   "source": [
    "import pandas as pd\n",
    "import numpy as np\n",
    "import matplotlib.pyplot as plt\n",
    "import seaborn as sns\n",
    "from sklearn.model_selection import train_test_split\n",
    "from sklearn.preprocessing import LabelEncoder\n",
    "from sklearn.preprocessing import MinMaxScaler\n",
    "from imblearn.over_sampling import SMOTE\n",
    "from sklearn.neighbors import KNeighborsClassifier\n",
    "from sklearn.metrics import accuracy_score,classification_report\n",
    "import pickle"
   ]
  },
  {
   "cell_type": "code",
   "execution_count": 2,
   "id": "3d8c36b3",
   "metadata": {},
   "outputs": [],
   "source": [
    "data=pd.read_csv(\"Airline_Reviews.csv\") #Reading the dataset"
   ]
  },
  {
   "cell_type": "code",
   "execution_count": 3,
   "id": "1aeea027",
   "metadata": {},
   "outputs": [
    {
     "data": {
      "text/plain": [
       "(23171, 20)"
      ]
     },
     "execution_count": 3,
     "metadata": {},
     "output_type": "execute_result"
    }
   ],
   "source": [
    "data.shape #getting the no.of rows and columns"
   ]
  },
  {
   "cell_type": "code",
   "execution_count": 4,
   "id": "a24e5d4e",
   "metadata": {},
   "outputs": [
    {
     "data": {
      "text/html": [
       "<div>\n",
       "<style scoped>\n",
       "    .dataframe tbody tr th:only-of-type {\n",
       "        vertical-align: middle;\n",
       "    }\n",
       "\n",
       "    .dataframe tbody tr th {\n",
       "        vertical-align: top;\n",
       "    }\n",
       "\n",
       "    .dataframe thead th {\n",
       "        text-align: right;\n",
       "    }\n",
       "</style>\n",
       "<table border=\"1\" class=\"dataframe\">\n",
       "  <thead>\n",
       "    <tr style=\"text-align: right;\">\n",
       "      <th></th>\n",
       "      <th>Unnamed: 0</th>\n",
       "      <th>Airline Name</th>\n",
       "      <th>Overall_Rating</th>\n",
       "      <th>Review_Title</th>\n",
       "      <th>Review Date</th>\n",
       "      <th>Verified</th>\n",
       "      <th>Review</th>\n",
       "      <th>Aircraft</th>\n",
       "      <th>Type Of Traveller</th>\n",
       "      <th>Seat Type</th>\n",
       "      <th>Route</th>\n",
       "      <th>Date Flown</th>\n",
       "      <th>Seat Comfort</th>\n",
       "      <th>Cabin Staff Service</th>\n",
       "      <th>Food &amp; Beverages</th>\n",
       "      <th>Ground Service</th>\n",
       "      <th>Inflight Entertainment</th>\n",
       "      <th>Wifi &amp; Connectivity</th>\n",
       "      <th>Value For Money</th>\n",
       "      <th>Recommended</th>\n",
       "    </tr>\n",
       "  </thead>\n",
       "  <tbody>\n",
       "    <tr>\n",
       "      <th>0</th>\n",
       "      <td>0</td>\n",
       "      <td>AB Aviation</td>\n",
       "      <td>9</td>\n",
       "      <td>\"pretty decent airline\"</td>\n",
       "      <td>11th November 2019</td>\n",
       "      <td>True</td>\n",
       "      <td>Moroni to Moheli. Turned out to be a pretty ...</td>\n",
       "      <td>NaN</td>\n",
       "      <td>Solo Leisure</td>\n",
       "      <td>Economy Class</td>\n",
       "      <td>Moroni to Moheli</td>\n",
       "      <td>November 2019</td>\n",
       "      <td>4.0</td>\n",
       "      <td>5.0</td>\n",
       "      <td>4.0</td>\n",
       "      <td>4.0</td>\n",
       "      <td>NaN</td>\n",
       "      <td>NaN</td>\n",
       "      <td>3.0</td>\n",
       "      <td>yes</td>\n",
       "    </tr>\n",
       "    <tr>\n",
       "      <th>1</th>\n",
       "      <td>1</td>\n",
       "      <td>AB Aviation</td>\n",
       "      <td>1</td>\n",
       "      <td>\"Not a good airline\"</td>\n",
       "      <td>25th June 2019</td>\n",
       "      <td>True</td>\n",
       "      <td>Moroni to Anjouan. It is a very small airline...</td>\n",
       "      <td>E120</td>\n",
       "      <td>Solo Leisure</td>\n",
       "      <td>Economy Class</td>\n",
       "      <td>Moroni to Anjouan</td>\n",
       "      <td>June 2019</td>\n",
       "      <td>2.0</td>\n",
       "      <td>2.0</td>\n",
       "      <td>1.0</td>\n",
       "      <td>1.0</td>\n",
       "      <td>NaN</td>\n",
       "      <td>NaN</td>\n",
       "      <td>2.0</td>\n",
       "      <td>no</td>\n",
       "    </tr>\n",
       "    <tr>\n",
       "      <th>2</th>\n",
       "      <td>2</td>\n",
       "      <td>AB Aviation</td>\n",
       "      <td>1</td>\n",
       "      <td>\"flight was fortunately short\"</td>\n",
       "      <td>25th June 2019</td>\n",
       "      <td>True</td>\n",
       "      <td>Anjouan to Dzaoudzi. A very small airline an...</td>\n",
       "      <td>Embraer E120</td>\n",
       "      <td>Solo Leisure</td>\n",
       "      <td>Economy Class</td>\n",
       "      <td>Anjouan to Dzaoudzi</td>\n",
       "      <td>June 2019</td>\n",
       "      <td>2.0</td>\n",
       "      <td>1.0</td>\n",
       "      <td>1.0</td>\n",
       "      <td>1.0</td>\n",
       "      <td>NaN</td>\n",
       "      <td>NaN</td>\n",
       "      <td>2.0</td>\n",
       "      <td>no</td>\n",
       "    </tr>\n",
       "    <tr>\n",
       "      <th>3</th>\n",
       "      <td>3</td>\n",
       "      <td>Adria Airways</td>\n",
       "      <td>1</td>\n",
       "      <td>\"I will never fly again with Adria\"</td>\n",
       "      <td>28th September 2019</td>\n",
       "      <td>False</td>\n",
       "      <td>Please do a favor yourself and do not fly wi...</td>\n",
       "      <td>NaN</td>\n",
       "      <td>Solo Leisure</td>\n",
       "      <td>Economy Class</td>\n",
       "      <td>Frankfurt to Pristina</td>\n",
       "      <td>September 2019</td>\n",
       "      <td>1.0</td>\n",
       "      <td>1.0</td>\n",
       "      <td>NaN</td>\n",
       "      <td>1.0</td>\n",
       "      <td>NaN</td>\n",
       "      <td>NaN</td>\n",
       "      <td>1.0</td>\n",
       "      <td>no</td>\n",
       "    </tr>\n",
       "    <tr>\n",
       "      <th>4</th>\n",
       "      <td>4</td>\n",
       "      <td>Adria Airways</td>\n",
       "      <td>1</td>\n",
       "      <td>\"it ruined our last days of holidays\"</td>\n",
       "      <td>24th September 2019</td>\n",
       "      <td>True</td>\n",
       "      <td>Do not book a flight with this airline! My fr...</td>\n",
       "      <td>NaN</td>\n",
       "      <td>Couple Leisure</td>\n",
       "      <td>Economy Class</td>\n",
       "      <td>Sofia to Amsterdam via Ljubljana</td>\n",
       "      <td>September 2019</td>\n",
       "      <td>1.0</td>\n",
       "      <td>1.0</td>\n",
       "      <td>1.0</td>\n",
       "      <td>1.0</td>\n",
       "      <td>1.0</td>\n",
       "      <td>1.0</td>\n",
       "      <td>1.0</td>\n",
       "      <td>no</td>\n",
       "    </tr>\n",
       "  </tbody>\n",
       "</table>\n",
       "</div>"
      ],
      "text/plain": [
       "   Unnamed: 0   Airline Name Overall_Rating  \\\n",
       "0           0    AB Aviation              9   \n",
       "1           1    AB Aviation              1   \n",
       "2           2    AB Aviation              1   \n",
       "3           3  Adria Airways              1   \n",
       "4           4  Adria Airways              1   \n",
       "\n",
       "                            Review_Title          Review Date  Verified  \\\n",
       "0                \"pretty decent airline\"   11th November 2019      True   \n",
       "1                   \"Not a good airline\"       25th June 2019      True   \n",
       "2         \"flight was fortunately short\"       25th June 2019      True   \n",
       "3    \"I will never fly again with Adria\"  28th September 2019     False   \n",
       "4  \"it ruined our last days of holidays\"  24th September 2019      True   \n",
       "\n",
       "                                              Review       Aircraft  \\\n",
       "0    Moroni to Moheli. Turned out to be a pretty ...            NaN   \n",
       "1   Moroni to Anjouan. It is a very small airline...           E120   \n",
       "2    Anjouan to Dzaoudzi. A very small airline an...  Embraer E120    \n",
       "3    Please do a favor yourself and do not fly wi...            NaN   \n",
       "4   Do not book a flight with this airline! My fr...            NaN   \n",
       "\n",
       "  Type Of Traveller      Seat Type                             Route  \\\n",
       "0      Solo Leisure  Economy Class                  Moroni to Moheli   \n",
       "1      Solo Leisure  Economy Class                 Moroni to Anjouan   \n",
       "2      Solo Leisure  Economy Class               Anjouan to Dzaoudzi   \n",
       "3      Solo Leisure  Economy Class             Frankfurt to Pristina   \n",
       "4    Couple Leisure  Economy Class  Sofia to Amsterdam via Ljubljana   \n",
       "\n",
       "       Date Flown  Seat Comfort  Cabin Staff Service  Food & Beverages  \\\n",
       "0   November 2019           4.0                  5.0               4.0   \n",
       "1       June 2019           2.0                  2.0               1.0   \n",
       "2       June 2019           2.0                  1.0               1.0   \n",
       "3  September 2019           1.0                  1.0               NaN   \n",
       "4  September 2019           1.0                  1.0               1.0   \n",
       "\n",
       "   Ground Service  Inflight Entertainment  Wifi & Connectivity  \\\n",
       "0             4.0                     NaN                  NaN   \n",
       "1             1.0                     NaN                  NaN   \n",
       "2             1.0                     NaN                  NaN   \n",
       "3             1.0                     NaN                  NaN   \n",
       "4             1.0                     1.0                  1.0   \n",
       "\n",
       "   Value For Money Recommended  \n",
       "0              3.0         yes  \n",
       "1              2.0          no  \n",
       "2              2.0          no  \n",
       "3              1.0          no  \n",
       "4              1.0          no  "
      ]
     },
     "execution_count": 4,
     "metadata": {},
     "output_type": "execute_result"
    }
   ],
   "source": [
    "data.head() #reading the dataset"
   ]
  },
  {
   "cell_type": "code",
   "execution_count": 5,
   "id": "12c7d020",
   "metadata": {},
   "outputs": [
    {
     "data": {
      "text/plain": [
       "1    11595\n",
       "2     2296\n",
       "9     1768\n",
       "8     1757\n",
       "3     1356\n",
       "7     1192\n",
       "4      859\n",
       "n      842\n",
       "5      830\n",
       "6      676\n",
       "Name: Overall_Rating, dtype: int64"
      ]
     },
     "execution_count": 5,
     "metadata": {},
     "output_type": "execute_result"
    }
   ],
   "source": [
    "data[\"Overall_Rating\"].value_counts()"
   ]
  },
  {
   "cell_type": "code",
   "execution_count": 6,
   "id": "c037bab1",
   "metadata": {},
   "outputs": [
    {
     "name": "stdout",
     "output_type": "stream",
     "text": [
      "<class 'pandas.core.frame.DataFrame'>\n",
      "RangeIndex: 23171 entries, 0 to 23170\n",
      "Data columns (total 20 columns):\n",
      " #   Column                  Non-Null Count  Dtype  \n",
      "---  ------                  --------------  -----  \n",
      " 0   Unnamed: 0              23171 non-null  int64  \n",
      " 1   Airline Name            23171 non-null  object \n",
      " 2   Overall_Rating          23171 non-null  object \n",
      " 3   Review_Title            23171 non-null  object \n",
      " 4   Review Date             23171 non-null  object \n",
      " 5   Verified                23171 non-null  bool   \n",
      " 6   Review                  23171 non-null  object \n",
      " 7   Aircraft                7129 non-null   object \n",
      " 8   Type Of Traveller       19433 non-null  object \n",
      " 9   Seat Type               22075 non-null  object \n",
      " 10  Route                   19343 non-null  object \n",
      " 11  Date Flown              19417 non-null  object \n",
      " 12  Seat Comfort            19016 non-null  float64\n",
      " 13  Cabin Staff Service     18911 non-null  float64\n",
      " 14  Food & Beverages        14500 non-null  float64\n",
      " 15  Ground Service          18378 non-null  float64\n",
      " 16  Inflight Entertainment  10829 non-null  float64\n",
      " 17  Wifi & Connectivity     5920 non-null   float64\n",
      " 18  Value For Money         22105 non-null  float64\n",
      " 19  Recommended             23171 non-null  object \n",
      "dtypes: bool(1), float64(7), int64(1), object(11)\n",
      "memory usage: 3.4+ MB\n"
     ]
    }
   ],
   "source": [
    "data.info() #getting the info of data set"
   ]
  },
  {
   "cell_type": "code",
   "execution_count": 7,
   "id": "bbd8226e",
   "metadata": {},
   "outputs": [],
   "source": [
    "df=data.drop(['Inflight Entertainment','Wifi & Connectivity','Aircraft',\n",
    "              'Value For Money','Cabin Staff Service','Unnamed: 0','Review Date','Review_Title','Review'],axis=1)\n",
    "#droping the columns to get efficient model"
   ]
  },
  {
   "cell_type": "code",
   "execution_count": 8,
   "id": "fc51a1ba",
   "metadata": {},
   "outputs": [
    {
     "data": {
      "text/html": [
       "<div>\n",
       "<style scoped>\n",
       "    .dataframe tbody tr th:only-of-type {\n",
       "        vertical-align: middle;\n",
       "    }\n",
       "\n",
       "    .dataframe tbody tr th {\n",
       "        vertical-align: top;\n",
       "    }\n",
       "\n",
       "    .dataframe thead th {\n",
       "        text-align: right;\n",
       "    }\n",
       "</style>\n",
       "<table border=\"1\" class=\"dataframe\">\n",
       "  <thead>\n",
       "    <tr style=\"text-align: right;\">\n",
       "      <th></th>\n",
       "      <th>Airline Name</th>\n",
       "      <th>Overall_Rating</th>\n",
       "      <th>Verified</th>\n",
       "      <th>Type Of Traveller</th>\n",
       "      <th>Seat Type</th>\n",
       "      <th>Route</th>\n",
       "      <th>Date Flown</th>\n",
       "      <th>Seat Comfort</th>\n",
       "      <th>Food &amp; Beverages</th>\n",
       "      <th>Ground Service</th>\n",
       "      <th>Recommended</th>\n",
       "    </tr>\n",
       "  </thead>\n",
       "  <tbody>\n",
       "    <tr>\n",
       "      <th>0</th>\n",
       "      <td>AB Aviation</td>\n",
       "      <td>9</td>\n",
       "      <td>True</td>\n",
       "      <td>Solo Leisure</td>\n",
       "      <td>Economy Class</td>\n",
       "      <td>Moroni to Moheli</td>\n",
       "      <td>November 2019</td>\n",
       "      <td>4.0</td>\n",
       "      <td>4.0</td>\n",
       "      <td>4.0</td>\n",
       "      <td>yes</td>\n",
       "    </tr>\n",
       "    <tr>\n",
       "      <th>1</th>\n",
       "      <td>AB Aviation</td>\n",
       "      <td>1</td>\n",
       "      <td>True</td>\n",
       "      <td>Solo Leisure</td>\n",
       "      <td>Economy Class</td>\n",
       "      <td>Moroni to Anjouan</td>\n",
       "      <td>June 2019</td>\n",
       "      <td>2.0</td>\n",
       "      <td>1.0</td>\n",
       "      <td>1.0</td>\n",
       "      <td>no</td>\n",
       "    </tr>\n",
       "    <tr>\n",
       "      <th>2</th>\n",
       "      <td>AB Aviation</td>\n",
       "      <td>1</td>\n",
       "      <td>True</td>\n",
       "      <td>Solo Leisure</td>\n",
       "      <td>Economy Class</td>\n",
       "      <td>Anjouan to Dzaoudzi</td>\n",
       "      <td>June 2019</td>\n",
       "      <td>2.0</td>\n",
       "      <td>1.0</td>\n",
       "      <td>1.0</td>\n",
       "      <td>no</td>\n",
       "    </tr>\n",
       "    <tr>\n",
       "      <th>3</th>\n",
       "      <td>Adria Airways</td>\n",
       "      <td>1</td>\n",
       "      <td>False</td>\n",
       "      <td>Solo Leisure</td>\n",
       "      <td>Economy Class</td>\n",
       "      <td>Frankfurt to Pristina</td>\n",
       "      <td>September 2019</td>\n",
       "      <td>1.0</td>\n",
       "      <td>NaN</td>\n",
       "      <td>1.0</td>\n",
       "      <td>no</td>\n",
       "    </tr>\n",
       "    <tr>\n",
       "      <th>4</th>\n",
       "      <td>Adria Airways</td>\n",
       "      <td>1</td>\n",
       "      <td>True</td>\n",
       "      <td>Couple Leisure</td>\n",
       "      <td>Economy Class</td>\n",
       "      <td>Sofia to Amsterdam via Ljubljana</td>\n",
       "      <td>September 2019</td>\n",
       "      <td>1.0</td>\n",
       "      <td>1.0</td>\n",
       "      <td>1.0</td>\n",
       "      <td>no</td>\n",
       "    </tr>\n",
       "  </tbody>\n",
       "</table>\n",
       "</div>"
      ],
      "text/plain": [
       "    Airline Name Overall_Rating  Verified Type Of Traveller      Seat Type  \\\n",
       "0    AB Aviation              9      True      Solo Leisure  Economy Class   \n",
       "1    AB Aviation              1      True      Solo Leisure  Economy Class   \n",
       "2    AB Aviation              1      True      Solo Leisure  Economy Class   \n",
       "3  Adria Airways              1     False      Solo Leisure  Economy Class   \n",
       "4  Adria Airways              1      True    Couple Leisure  Economy Class   \n",
       "\n",
       "                              Route      Date Flown  Seat Comfort  \\\n",
       "0                  Moroni to Moheli   November 2019           4.0   \n",
       "1                 Moroni to Anjouan       June 2019           2.0   \n",
       "2               Anjouan to Dzaoudzi       June 2019           2.0   \n",
       "3             Frankfurt to Pristina  September 2019           1.0   \n",
       "4  Sofia to Amsterdam via Ljubljana  September 2019           1.0   \n",
       "\n",
       "   Food & Beverages  Ground Service Recommended  \n",
       "0               4.0             4.0         yes  \n",
       "1               1.0             1.0          no  \n",
       "2               1.0             1.0          no  \n",
       "3               NaN             1.0          no  \n",
       "4               1.0             1.0          no  "
      ]
     },
     "execution_count": 8,
     "metadata": {},
     "output_type": "execute_result"
    }
   ],
   "source": [
    "df.head() #modified dataset"
   ]
  },
  {
   "cell_type": "code",
   "execution_count": 9,
   "id": "c4138af7",
   "metadata": {},
   "outputs": [
    {
     "data": {
      "text/plain": [
       "Melbourne to Sydney                      43\n",
       "Sydney to Melbourne                      35\n",
       "Cape Town to Johannesburg                34\n",
       "Cusco to Lima                            30\n",
       "Bangkok to Phuket                        28\n",
       "                                         ..\n",
       "HKG to BKI                                1\n",
       "HKG to WUH                                1\n",
       "HKG to HKT                                1\n",
       "CRK to HKG                                1\n",
       "Los Angeles to Seoul via Tokyo Narita     1\n",
       "Name: Route, Length: 13607, dtype: int64"
      ]
     },
     "execution_count": 9,
     "metadata": {},
     "output_type": "execute_result"
    }
   ],
   "source": [
    "df[\"Route\"].value_counts()"
   ]
  },
  {
   "cell_type": "code",
   "execution_count": null,
   "id": "e30ff7d7",
   "metadata": {},
   "outputs": [],
   "source": []
  },
  {
   "cell_type": "code",
   "execution_count": 10,
   "id": "9a75552e",
   "metadata": {},
   "outputs": [
    {
     "name": "stdout",
     "output_type": "stream",
     "text": [
      "<class 'pandas.core.frame.DataFrame'>\n",
      "RangeIndex: 23171 entries, 0 to 23170\n",
      "Data columns (total 11 columns):\n",
      " #   Column             Non-Null Count  Dtype  \n",
      "---  ------             --------------  -----  \n",
      " 0   Airline Name       23171 non-null  object \n",
      " 1   Overall_Rating     23171 non-null  object \n",
      " 2   Verified           23171 non-null  bool   \n",
      " 3   Type Of Traveller  19433 non-null  object \n",
      " 4   Seat Type          22075 non-null  object \n",
      " 5   Route              19343 non-null  object \n",
      " 6   Date Flown         19417 non-null  object \n",
      " 7   Seat Comfort       19016 non-null  float64\n",
      " 8   Food & Beverages   14500 non-null  float64\n",
      " 9   Ground Service     18378 non-null  float64\n",
      " 10  Recommended        23171 non-null  object \n",
      "dtypes: bool(1), float64(3), object(7)\n",
      "memory usage: 1.8+ MB\n"
     ]
    }
   ],
   "source": [
    "df.info() #to get info of updated dataset"
   ]
  },
  {
   "cell_type": "markdown",
   "id": "752a3408",
   "metadata": {},
   "source": [
    "# CHECKING FOR NULL VALUES AND HANDLING NULL VALUES"
   ]
  },
  {
   "cell_type": "code",
   "execution_count": 11,
   "id": "55eb9172",
   "metadata": {},
   "outputs": [
    {
     "data": {
      "text/plain": [
       "Airline Name         False\n",
       "Overall_Rating       False\n",
       "Verified             False\n",
       "Type Of Traveller     True\n",
       "Seat Type             True\n",
       "Route                 True\n",
       "Date Flown            True\n",
       "Seat Comfort          True\n",
       "Food & Beverages      True\n",
       "Ground Service        True\n",
       "Recommended          False\n",
       "dtype: bool"
      ]
     },
     "execution_count": 11,
     "metadata": {},
     "output_type": "execute_result"
    }
   ],
   "source": [
    "df.isnull().any() #checking for null values"
   ]
  },
  {
   "cell_type": "code",
   "execution_count": 12,
   "id": "8091b493",
   "metadata": {},
   "outputs": [
    {
     "data": {
      "text/plain": [
       "Airline Name            0\n",
       "Overall_Rating          0\n",
       "Verified                0\n",
       "Type Of Traveller    3738\n",
       "Seat Type            1096\n",
       "Route                3828\n",
       "Date Flown           3754\n",
       "Seat Comfort         4155\n",
       "Food & Beverages     8671\n",
       "Ground Service       4793\n",
       "Recommended             0\n",
       "dtype: int64"
      ]
     },
     "execution_count": 12,
     "metadata": {},
     "output_type": "execute_result"
    }
   ],
   "source": [
    "df.isnull().sum()  #checking for the sum of null values"
   ]
  },
  {
   "cell_type": "code",
   "execution_count": 13,
   "id": "217620a2",
   "metadata": {},
   "outputs": [],
   "source": [
    "#There is null values in some columns so we have to modify the dataset categorical values are replce with mode and numerical are replace with mean\n",
    "df[\"Type Of Traveller\"].fillna(df[\"Type Of Traveller\"].mode()[0],inplace=True)\n",
    "df[\"Seat Type\"].fillna(df[\"Seat Type\"].mode()[0],inplace=True)\n",
    "df[\"Route\"].fillna(df[\"Route\"].mode()[0],inplace=True)\n",
    "df[\"Date Flown\"].fillna(df[\"Date Flown\"].mode()[0],inplace=True)\n",
    "df[\"Seat Comfort\"].fillna(df[\"Seat Comfort\"].mean(),inplace=True)\n",
    "df[\"Food & Beverages\"].fillna(df[\"Food & Beverages\"].mean(),inplace=True)\n",
    "df[\"Ground Service\"].fillna(df[\"Ground Service\"].mean(),inplace=True)"
   ]
  },
  {
   "cell_type": "code",
   "execution_count": 14,
   "id": "52ee7e87",
   "metadata": {},
   "outputs": [
    {
     "data": {
      "text/plain": [
       "Airline Name         False\n",
       "Overall_Rating       False\n",
       "Verified             False\n",
       "Type Of Traveller    False\n",
       "Seat Type            False\n",
       "Route                False\n",
       "Date Flown           False\n",
       "Seat Comfort         False\n",
       "Food & Beverages     False\n",
       "Ground Service       False\n",
       "Recommended          False\n",
       "dtype: bool"
      ]
     },
     "execution_count": 14,
     "metadata": {},
     "output_type": "execute_result"
    }
   ],
   "source": [
    "df.isnull().any() #checking again there is any null values"
   ]
  },
  {
   "cell_type": "markdown",
   "id": "9148ea79",
   "metadata": {},
   "source": [
    "# CONVERTING THE CATEGORICAL COLUMN TO NUMERIC USING LABEL ENCODING"
   ]
  },
  {
   "cell_type": "code",
   "execution_count": 15,
   "id": "8774518d",
   "metadata": {},
   "outputs": [],
   "source": [
    "le=LabelEncoder() #creating an object for label encoding"
   ]
  },
  {
   "cell_type": "code",
   "execution_count": 16,
   "id": "9640f8b8",
   "metadata": {},
   "outputs": [
    {
     "data": {
      "text/html": [
       "<div>\n",
       "<style scoped>\n",
       "    .dataframe tbody tr th:only-of-type {\n",
       "        vertical-align: middle;\n",
       "    }\n",
       "\n",
       "    .dataframe tbody tr th {\n",
       "        vertical-align: top;\n",
       "    }\n",
       "\n",
       "    .dataframe thead th {\n",
       "        text-align: right;\n",
       "    }\n",
       "</style>\n",
       "<table border=\"1\" class=\"dataframe\">\n",
       "  <thead>\n",
       "    <tr style=\"text-align: right;\">\n",
       "      <th></th>\n",
       "      <th>Airline Name</th>\n",
       "      <th>Overall_Rating</th>\n",
       "      <th>Verified</th>\n",
       "      <th>Type Of Traveller</th>\n",
       "      <th>Seat Type</th>\n",
       "      <th>Route</th>\n",
       "      <th>Date Flown</th>\n",
       "      <th>Seat Comfort</th>\n",
       "      <th>Food &amp; Beverages</th>\n",
       "      <th>Ground Service</th>\n",
       "      <th>Recommended</th>\n",
       "    </tr>\n",
       "  </thead>\n",
       "  <tbody>\n",
       "    <tr>\n",
       "      <th>0</th>\n",
       "      <td>AB Aviation</td>\n",
       "      <td>9</td>\n",
       "      <td>True</td>\n",
       "      <td>Solo Leisure</td>\n",
       "      <td>Economy Class</td>\n",
       "      <td>Moroni to Moheli</td>\n",
       "      <td>November 2019</td>\n",
       "      <td>4.0</td>\n",
       "      <td>4.000000</td>\n",
       "      <td>4.0</td>\n",
       "      <td>yes</td>\n",
       "    </tr>\n",
       "    <tr>\n",
       "      <th>1</th>\n",
       "      <td>AB Aviation</td>\n",
       "      <td>1</td>\n",
       "      <td>True</td>\n",
       "      <td>Solo Leisure</td>\n",
       "      <td>Economy Class</td>\n",
       "      <td>Moroni to Anjouan</td>\n",
       "      <td>June 2019</td>\n",
       "      <td>2.0</td>\n",
       "      <td>1.000000</td>\n",
       "      <td>1.0</td>\n",
       "      <td>no</td>\n",
       "    </tr>\n",
       "    <tr>\n",
       "      <th>2</th>\n",
       "      <td>AB Aviation</td>\n",
       "      <td>1</td>\n",
       "      <td>True</td>\n",
       "      <td>Solo Leisure</td>\n",
       "      <td>Economy Class</td>\n",
       "      <td>Anjouan to Dzaoudzi</td>\n",
       "      <td>June 2019</td>\n",
       "      <td>2.0</td>\n",
       "      <td>1.000000</td>\n",
       "      <td>1.0</td>\n",
       "      <td>no</td>\n",
       "    </tr>\n",
       "    <tr>\n",
       "      <th>3</th>\n",
       "      <td>Adria Airways</td>\n",
       "      <td>1</td>\n",
       "      <td>False</td>\n",
       "      <td>Solo Leisure</td>\n",
       "      <td>Economy Class</td>\n",
       "      <td>Frankfurt to Pristina</td>\n",
       "      <td>September 2019</td>\n",
       "      <td>1.0</td>\n",
       "      <td>2.553586</td>\n",
       "      <td>1.0</td>\n",
       "      <td>no</td>\n",
       "    </tr>\n",
       "    <tr>\n",
       "      <th>4</th>\n",
       "      <td>Adria Airways</td>\n",
       "      <td>1</td>\n",
       "      <td>True</td>\n",
       "      <td>Couple Leisure</td>\n",
       "      <td>Economy Class</td>\n",
       "      <td>Sofia to Amsterdam via Ljubljana</td>\n",
       "      <td>September 2019</td>\n",
       "      <td>1.0</td>\n",
       "      <td>1.000000</td>\n",
       "      <td>1.0</td>\n",
       "      <td>no</td>\n",
       "    </tr>\n",
       "  </tbody>\n",
       "</table>\n",
       "</div>"
      ],
      "text/plain": [
       "    Airline Name Overall_Rating  Verified Type Of Traveller      Seat Type  \\\n",
       "0    AB Aviation              9      True      Solo Leisure  Economy Class   \n",
       "1    AB Aviation              1      True      Solo Leisure  Economy Class   \n",
       "2    AB Aviation              1      True      Solo Leisure  Economy Class   \n",
       "3  Adria Airways              1     False      Solo Leisure  Economy Class   \n",
       "4  Adria Airways              1      True    Couple Leisure  Economy Class   \n",
       "\n",
       "                              Route      Date Flown  Seat Comfort  \\\n",
       "0                  Moroni to Moheli   November 2019           4.0   \n",
       "1                 Moroni to Anjouan       June 2019           2.0   \n",
       "2               Anjouan to Dzaoudzi       June 2019           2.0   \n",
       "3             Frankfurt to Pristina  September 2019           1.0   \n",
       "4  Sofia to Amsterdam via Ljubljana  September 2019           1.0   \n",
       "\n",
       "   Food & Beverages  Ground Service Recommended  \n",
       "0          4.000000             4.0         yes  \n",
       "1          1.000000             1.0          no  \n",
       "2          1.000000             1.0          no  \n",
       "3          2.553586             1.0          no  \n",
       "4          1.000000             1.0          no  "
      ]
     },
     "execution_count": 16,
     "metadata": {},
     "output_type": "execute_result"
    }
   ],
   "source": [
    "df.head()"
   ]
  },
  {
   "cell_type": "code",
   "execution_count": 17,
   "id": "cff02051",
   "metadata": {},
   "outputs": [],
   "source": [
    "df[['Month flown','Year flown']]=df['Date Flown'].str.split(expand=True) #splitting the string"
   ]
  },
  {
   "cell_type": "code",
   "execution_count": 18,
   "id": "455f5213",
   "metadata": {},
   "outputs": [],
   "source": [
    "df=df.drop([\"Date Flown\"],axis=1) #dropping the data flown column"
   ]
  },
  {
   "cell_type": "code",
   "execution_count": 19,
   "id": "e24ca93e",
   "metadata": {},
   "outputs": [],
   "source": [
    "order=['Airline Name','Overall_Rating','Verified','Type Of Traveller','Seat Type','Route','Month flown','Year flown',\n",
    "       'Seat Comfort','Food & Beverages','Ground Service','Recommended']\n",
    "df=df.reindex(columns=order) #adjusting to a original order"
   ]
  },
  {
   "cell_type": "code",
   "execution_count": 20,
   "id": "4dca8f5e",
   "metadata": {},
   "outputs": [],
   "source": [
    "#we are converting the columns by using label Encoder\n",
    "df['Airline Name']=le.fit_transform(df['Airline Name'])\n",
    "df['Overall_Rating']=le.fit_transform(df['Overall_Rating'])\n",
    "df['Verified']=le.fit_transform(df['Verified'])\n",
    "df['Type Of Traveller']=le.fit_transform(df['Type Of Traveller'])\n",
    "df['Seat Type']=le.fit_transform(df['Seat Type'])\n",
    "df['Route']=le.fit_transform(df['Route'])\n",
    "df['Month flown']=le.fit_transform(df['Month flown'])\n",
    "df['Recommended']=le.fit_transform(df['Recommended'])"
   ]
  },
  {
   "cell_type": "code",
   "execution_count": 21,
   "id": "91aea2c4",
   "metadata": {},
   "outputs": [],
   "source": [
    "pickle.dump(le,open(\"le.pkl\",\"wb\"))"
   ]
  },
  {
   "cell_type": "code",
   "execution_count": 22,
   "id": "1e3a6b52",
   "metadata": {},
   "outputs": [
    {
     "data": {
      "text/html": [
       "<div>\n",
       "<style scoped>\n",
       "    .dataframe tbody tr th:only-of-type {\n",
       "        vertical-align: middle;\n",
       "    }\n",
       "\n",
       "    .dataframe tbody tr th {\n",
       "        vertical-align: top;\n",
       "    }\n",
       "\n",
       "    .dataframe thead th {\n",
       "        text-align: right;\n",
       "    }\n",
       "</style>\n",
       "<table border=\"1\" class=\"dataframe\">\n",
       "  <thead>\n",
       "    <tr style=\"text-align: right;\">\n",
       "      <th></th>\n",
       "      <th>Airline Name</th>\n",
       "      <th>Overall_Rating</th>\n",
       "      <th>Verified</th>\n",
       "      <th>Type Of Traveller</th>\n",
       "      <th>Seat Type</th>\n",
       "      <th>Route</th>\n",
       "      <th>Month flown</th>\n",
       "      <th>Year flown</th>\n",
       "      <th>Seat Comfort</th>\n",
       "      <th>Food &amp; Beverages</th>\n",
       "      <th>Ground Service</th>\n",
       "      <th>Recommended</th>\n",
       "    </tr>\n",
       "  </thead>\n",
       "  <tbody>\n",
       "    <tr>\n",
       "      <th>0</th>\n",
       "      <td>0</td>\n",
       "      <td>8</td>\n",
       "      <td>1</td>\n",
       "      <td>3</td>\n",
       "      <td>1</td>\n",
       "      <td>8585</td>\n",
       "      <td>9</td>\n",
       "      <td>2019</td>\n",
       "      <td>4.0</td>\n",
       "      <td>4.000000</td>\n",
       "      <td>4.0</td>\n",
       "      <td>1</td>\n",
       "    </tr>\n",
       "    <tr>\n",
       "      <th>1</th>\n",
       "      <td>0</td>\n",
       "      <td>0</td>\n",
       "      <td>1</td>\n",
       "      <td>3</td>\n",
       "      <td>1</td>\n",
       "      <td>8584</td>\n",
       "      <td>6</td>\n",
       "      <td>2019</td>\n",
       "      <td>2.0</td>\n",
       "      <td>1.000000</td>\n",
       "      <td>1.0</td>\n",
       "      <td>0</td>\n",
       "    </tr>\n",
       "    <tr>\n",
       "      <th>2</th>\n",
       "      <td>0</td>\n",
       "      <td>0</td>\n",
       "      <td>1</td>\n",
       "      <td>3</td>\n",
       "      <td>1</td>\n",
       "      <td>482</td>\n",
       "      <td>6</td>\n",
       "      <td>2019</td>\n",
       "      <td>2.0</td>\n",
       "      <td>1.000000</td>\n",
       "      <td>1.0</td>\n",
       "      <td>0</td>\n",
       "    </tr>\n",
       "    <tr>\n",
       "      <th>3</th>\n",
       "      <td>4</td>\n",
       "      <td>0</td>\n",
       "      <td>0</td>\n",
       "      <td>3</td>\n",
       "      <td>1</td>\n",
       "      <td>4256</td>\n",
       "      <td>11</td>\n",
       "      <td>2019</td>\n",
       "      <td>1.0</td>\n",
       "      <td>2.553586</td>\n",
       "      <td>1.0</td>\n",
       "      <td>0</td>\n",
       "    </tr>\n",
       "    <tr>\n",
       "      <th>4</th>\n",
       "      <td>4</td>\n",
       "      <td>0</td>\n",
       "      <td>1</td>\n",
       "      <td>1</td>\n",
       "      <td>1</td>\n",
       "      <td>11778</td>\n",
       "      <td>11</td>\n",
       "      <td>2019</td>\n",
       "      <td>1.0</td>\n",
       "      <td>1.000000</td>\n",
       "      <td>1.0</td>\n",
       "      <td>0</td>\n",
       "    </tr>\n",
       "  </tbody>\n",
       "</table>\n",
       "</div>"
      ],
      "text/plain": [
       "   Airline Name  Overall_Rating  Verified  Type Of Traveller  Seat Type  \\\n",
       "0             0               8         1                  3          1   \n",
       "1             0               0         1                  3          1   \n",
       "2             0               0         1                  3          1   \n",
       "3             4               0         0                  3          1   \n",
       "4             4               0         1                  1          1   \n",
       "\n",
       "   Route  Month flown Year flown  Seat Comfort  Food & Beverages  \\\n",
       "0   8585            9       2019           4.0          4.000000   \n",
       "1   8584            6       2019           2.0          1.000000   \n",
       "2    482            6       2019           2.0          1.000000   \n",
       "3   4256           11       2019           1.0          2.553586   \n",
       "4  11778           11       2019           1.0          1.000000   \n",
       "\n",
       "   Ground Service  Recommended  \n",
       "0             4.0            1  \n",
       "1             1.0            0  \n",
       "2             1.0            0  \n",
       "3             1.0            0  \n",
       "4             1.0            0  "
      ]
     },
     "execution_count": 22,
     "metadata": {},
     "output_type": "execute_result"
    }
   ],
   "source": [
    "df.head()"
   ]
  },
  {
   "cell_type": "markdown",
   "id": "e4007ebd",
   "metadata": {},
   "source": [
    "# VISUALIZATION OF DATA"
   ]
  },
  {
   "cell_type": "code",
   "execution_count": 23,
   "id": "8aee3f9d",
   "metadata": {},
   "outputs": [
    {
     "data": {
      "text/html": [
       "<div>\n",
       "<style scoped>\n",
       "    .dataframe tbody tr th:only-of-type {\n",
       "        vertical-align: middle;\n",
       "    }\n",
       "\n",
       "    .dataframe tbody tr th {\n",
       "        vertical-align: top;\n",
       "    }\n",
       "\n",
       "    .dataframe thead th {\n",
       "        text-align: right;\n",
       "    }\n",
       "</style>\n",
       "<table border=\"1\" class=\"dataframe\">\n",
       "  <thead>\n",
       "    <tr style=\"text-align: right;\">\n",
       "      <th></th>\n",
       "      <th>Airline Name</th>\n",
       "      <th>Overall_Rating</th>\n",
       "      <th>Verified</th>\n",
       "      <th>Type Of Traveller</th>\n",
       "      <th>Seat Type</th>\n",
       "      <th>Route</th>\n",
       "      <th>Month flown</th>\n",
       "      <th>Seat Comfort</th>\n",
       "      <th>Food &amp; Beverages</th>\n",
       "      <th>Ground Service</th>\n",
       "      <th>Recommended</th>\n",
       "    </tr>\n",
       "  </thead>\n",
       "  <tbody>\n",
       "    <tr>\n",
       "      <th>count</th>\n",
       "      <td>23171.000000</td>\n",
       "      <td>23171.000000</td>\n",
       "      <td>23171.000000</td>\n",
       "      <td>23171.000000</td>\n",
       "      <td>23171.000000</td>\n",
       "      <td>23171.000000</td>\n",
       "      <td>23171.000000</td>\n",
       "      <td>23171.000000</td>\n",
       "      <td>23171.000000</td>\n",
       "      <td>23171.000000</td>\n",
       "      <td>23171.000000</td>\n",
       "    </tr>\n",
       "    <tr>\n",
       "      <th>mean</th>\n",
       "      <td>245.027880</td>\n",
       "      <td>2.393423</td>\n",
       "      <td>0.531785</td>\n",
       "      <td>2.008675</td>\n",
       "      <td>0.973242</td>\n",
       "      <td>7016.380130</td>\n",
       "      <td>5.495188</td>\n",
       "      <td>2.618321</td>\n",
       "      <td>2.553586</td>\n",
       "      <td>2.353738</td>\n",
       "      <td>0.336930</td>\n",
       "    </tr>\n",
       "    <tr>\n",
       "      <th>std</th>\n",
       "      <td>144.313766</td>\n",
       "      <td>3.104117</td>\n",
       "      <td>0.498999</td>\n",
       "      <td>1.077595</td>\n",
       "      <td>0.457584</td>\n",
       "      <td>3612.341934</td>\n",
       "      <td>3.019861</td>\n",
       "      <td>1.327017</td>\n",
       "      <td>1.207396</td>\n",
       "      <td>1.421145</td>\n",
       "      <td>0.472671</td>\n",
       "    </tr>\n",
       "    <tr>\n",
       "      <th>min</th>\n",
       "      <td>0.000000</td>\n",
       "      <td>0.000000</td>\n",
       "      <td>0.000000</td>\n",
       "      <td>0.000000</td>\n",
       "      <td>0.000000</td>\n",
       "      <td>0.000000</td>\n",
       "      <td>0.000000</td>\n",
       "      <td>0.000000</td>\n",
       "      <td>0.000000</td>\n",
       "      <td>1.000000</td>\n",
       "      <td>0.000000</td>\n",
       "    </tr>\n",
       "    <tr>\n",
       "      <th>25%</th>\n",
       "      <td>124.000000</td>\n",
       "      <td>0.000000</td>\n",
       "      <td>0.000000</td>\n",
       "      <td>1.000000</td>\n",
       "      <td>1.000000</td>\n",
       "      <td>4101.500000</td>\n",
       "      <td>3.000000</td>\n",
       "      <td>1.000000</td>\n",
       "      <td>2.000000</td>\n",
       "      <td>1.000000</td>\n",
       "      <td>0.000000</td>\n",
       "    </tr>\n",
       "    <tr>\n",
       "      <th>50%</th>\n",
       "      <td>237.000000</td>\n",
       "      <td>0.000000</td>\n",
       "      <td>1.000000</td>\n",
       "      <td>2.000000</td>\n",
       "      <td>1.000000</td>\n",
       "      <td>8093.000000</td>\n",
       "      <td>6.000000</td>\n",
       "      <td>2.618321</td>\n",
       "      <td>2.553586</td>\n",
       "      <td>2.353738</td>\n",
       "      <td>0.000000</td>\n",
       "    </tr>\n",
       "    <tr>\n",
       "      <th>75%</th>\n",
       "      <td>373.000000</td>\n",
       "      <td>5.000000</td>\n",
       "      <td>1.000000</td>\n",
       "      <td>3.000000</td>\n",
       "      <td>1.000000</td>\n",
       "      <td>9482.000000</td>\n",
       "      <td>7.000000</td>\n",
       "      <td>4.000000</td>\n",
       "      <td>3.000000</td>\n",
       "      <td>3.000000</td>\n",
       "      <td>1.000000</td>\n",
       "    </tr>\n",
       "    <tr>\n",
       "      <th>max</th>\n",
       "      <td>496.000000</td>\n",
       "      <td>9.000000</td>\n",
       "      <td>1.000000</td>\n",
       "      <td>3.000000</td>\n",
       "      <td>3.000000</td>\n",
       "      <td>13606.000000</td>\n",
       "      <td>11.000000</td>\n",
       "      <td>5.000000</td>\n",
       "      <td>5.000000</td>\n",
       "      <td>5.000000</td>\n",
       "      <td>1.000000</td>\n",
       "    </tr>\n",
       "  </tbody>\n",
       "</table>\n",
       "</div>"
      ],
      "text/plain": [
       "       Airline Name  Overall_Rating      Verified  Type Of Traveller  \\\n",
       "count  23171.000000    23171.000000  23171.000000       23171.000000   \n",
       "mean     245.027880        2.393423      0.531785           2.008675   \n",
       "std      144.313766        3.104117      0.498999           1.077595   \n",
       "min        0.000000        0.000000      0.000000           0.000000   \n",
       "25%      124.000000        0.000000      0.000000           1.000000   \n",
       "50%      237.000000        0.000000      1.000000           2.000000   \n",
       "75%      373.000000        5.000000      1.000000           3.000000   \n",
       "max      496.000000        9.000000      1.000000           3.000000   \n",
       "\n",
       "          Seat Type         Route   Month flown  Seat Comfort  \\\n",
       "count  23171.000000  23171.000000  23171.000000  23171.000000   \n",
       "mean       0.973242   7016.380130      5.495188      2.618321   \n",
       "std        0.457584   3612.341934      3.019861      1.327017   \n",
       "min        0.000000      0.000000      0.000000      0.000000   \n",
       "25%        1.000000   4101.500000      3.000000      1.000000   \n",
       "50%        1.000000   8093.000000      6.000000      2.618321   \n",
       "75%        1.000000   9482.000000      7.000000      4.000000   \n",
       "max        3.000000  13606.000000     11.000000      5.000000   \n",
       "\n",
       "       Food & Beverages  Ground Service   Recommended  \n",
       "count      23171.000000    23171.000000  23171.000000  \n",
       "mean           2.553586        2.353738      0.336930  \n",
       "std            1.207396        1.421145      0.472671  \n",
       "min            0.000000        1.000000      0.000000  \n",
       "25%            2.000000        1.000000      0.000000  \n",
       "50%            2.553586        2.353738      0.000000  \n",
       "75%            3.000000        3.000000      1.000000  \n",
       "max            5.000000        5.000000      1.000000  "
      ]
     },
     "execution_count": 23,
     "metadata": {},
     "output_type": "execute_result"
    }
   ],
   "source": [
    "df.describe() #it gives the statical calculation of data"
   ]
  },
  {
   "cell_type": "code",
   "execution_count": 24,
   "id": "42bb062a",
   "metadata": {},
   "outputs": [
    {
     "data": {
      "text/html": [
       "<div>\n",
       "<style scoped>\n",
       "    .dataframe tbody tr th:only-of-type {\n",
       "        vertical-align: middle;\n",
       "    }\n",
       "\n",
       "    .dataframe tbody tr th {\n",
       "        vertical-align: top;\n",
       "    }\n",
       "\n",
       "    .dataframe thead th {\n",
       "        text-align: right;\n",
       "    }\n",
       "</style>\n",
       "<table border=\"1\" class=\"dataframe\">\n",
       "  <thead>\n",
       "    <tr style=\"text-align: right;\">\n",
       "      <th></th>\n",
       "      <th>Airline Name</th>\n",
       "      <th>Overall_Rating</th>\n",
       "      <th>Verified</th>\n",
       "      <th>Type Of Traveller</th>\n",
       "      <th>Seat Type</th>\n",
       "      <th>Route</th>\n",
       "      <th>Month flown</th>\n",
       "      <th>Seat Comfort</th>\n",
       "      <th>Food &amp; Beverages</th>\n",
       "      <th>Ground Service</th>\n",
       "      <th>Recommended</th>\n",
       "    </tr>\n",
       "  </thead>\n",
       "  <tbody>\n",
       "    <tr>\n",
       "      <th>Airline Name</th>\n",
       "      <td>1.000000</td>\n",
       "      <td>-0.022610</td>\n",
       "      <td>0.006762</td>\n",
       "      <td>-0.018686</td>\n",
       "      <td>0.032295</td>\n",
       "      <td>-0.030981</td>\n",
       "      <td>-0.006680</td>\n",
       "      <td>-0.035857</td>\n",
       "      <td>-0.026203</td>\n",
       "      <td>-0.023924</td>\n",
       "      <td>-0.015614</td>\n",
       "    </tr>\n",
       "    <tr>\n",
       "      <th>Overall_Rating</th>\n",
       "      <td>-0.022610</td>\n",
       "      <td>1.000000</td>\n",
       "      <td>-0.204288</td>\n",
       "      <td>0.163941</td>\n",
       "      <td>-0.076057</td>\n",
       "      <td>0.041676</td>\n",
       "      <td>0.027643</td>\n",
       "      <td>0.382214</td>\n",
       "      <td>0.295038</td>\n",
       "      <td>0.450949</td>\n",
       "      <td>0.534467</td>\n",
       "    </tr>\n",
       "    <tr>\n",
       "      <th>Verified</th>\n",
       "      <td>0.006762</td>\n",
       "      <td>-0.204288</td>\n",
       "      <td>1.000000</td>\n",
       "      <td>-0.159073</td>\n",
       "      <td>-0.008561</td>\n",
       "      <td>-0.076355</td>\n",
       "      <td>-0.053120</td>\n",
       "      <td>-0.009543</td>\n",
       "      <td>0.009813</td>\n",
       "      <td>-0.009349</td>\n",
       "      <td>-0.073313</td>\n",
       "    </tr>\n",
       "    <tr>\n",
       "      <th>Type Of Traveller</th>\n",
       "      <td>-0.018686</td>\n",
       "      <td>0.163941</td>\n",
       "      <td>-0.159073</td>\n",
       "      <td>1.000000</td>\n",
       "      <td>0.036095</td>\n",
       "      <td>0.049901</td>\n",
       "      <td>0.009462</td>\n",
       "      <td>0.048675</td>\n",
       "      <td>0.033289</td>\n",
       "      <td>0.041037</td>\n",
       "      <td>0.087046</td>\n",
       "    </tr>\n",
       "    <tr>\n",
       "      <th>Seat Type</th>\n",
       "      <td>0.032295</td>\n",
       "      <td>-0.076057</td>\n",
       "      <td>-0.008561</td>\n",
       "      <td>0.036095</td>\n",
       "      <td>1.000000</td>\n",
       "      <td>-0.008572</td>\n",
       "      <td>-0.007745</td>\n",
       "      <td>-0.078122</td>\n",
       "      <td>-0.080341</td>\n",
       "      <td>-0.061260</td>\n",
       "      <td>-0.076048</td>\n",
       "    </tr>\n",
       "    <tr>\n",
       "      <th>Route</th>\n",
       "      <td>-0.030981</td>\n",
       "      <td>0.041676</td>\n",
       "      <td>-0.076355</td>\n",
       "      <td>0.049901</td>\n",
       "      <td>-0.008572</td>\n",
       "      <td>1.000000</td>\n",
       "      <td>0.012067</td>\n",
       "      <td>-0.000635</td>\n",
       "      <td>0.006327</td>\n",
       "      <td>-0.003002</td>\n",
       "      <td>0.010862</td>\n",
       "    </tr>\n",
       "    <tr>\n",
       "      <th>Month flown</th>\n",
       "      <td>-0.006680</td>\n",
       "      <td>0.027643</td>\n",
       "      <td>-0.053120</td>\n",
       "      <td>0.009462</td>\n",
       "      <td>-0.007745</td>\n",
       "      <td>0.012067</td>\n",
       "      <td>1.000000</td>\n",
       "      <td>0.021298</td>\n",
       "      <td>0.015861</td>\n",
       "      <td>0.011897</td>\n",
       "      <td>0.025007</td>\n",
       "    </tr>\n",
       "    <tr>\n",
       "      <th>Seat Comfort</th>\n",
       "      <td>-0.035857</td>\n",
       "      <td>0.382214</td>\n",
       "      <td>-0.009543</td>\n",
       "      <td>0.048675</td>\n",
       "      <td>-0.078122</td>\n",
       "      <td>-0.000635</td>\n",
       "      <td>0.021298</td>\n",
       "      <td>1.000000</td>\n",
       "      <td>0.635971</td>\n",
       "      <td>0.672536</td>\n",
       "      <td>0.651380</td>\n",
       "    </tr>\n",
       "    <tr>\n",
       "      <th>Food &amp; Beverages</th>\n",
       "      <td>-0.026203</td>\n",
       "      <td>0.295038</td>\n",
       "      <td>0.009813</td>\n",
       "      <td>0.033289</td>\n",
       "      <td>-0.080341</td>\n",
       "      <td>0.006327</td>\n",
       "      <td>0.015861</td>\n",
       "      <td>0.635971</td>\n",
       "      <td>1.000000</td>\n",
       "      <td>0.558308</td>\n",
       "      <td>0.581473</td>\n",
       "    </tr>\n",
       "    <tr>\n",
       "      <th>Ground Service</th>\n",
       "      <td>-0.023924</td>\n",
       "      <td>0.450949</td>\n",
       "      <td>-0.009349</td>\n",
       "      <td>0.041037</td>\n",
       "      <td>-0.061260</td>\n",
       "      <td>-0.003002</td>\n",
       "      <td>0.011897</td>\n",
       "      <td>0.672536</td>\n",
       "      <td>0.558308</td>\n",
       "      <td>1.000000</td>\n",
       "      <td>0.709446</td>\n",
       "    </tr>\n",
       "    <tr>\n",
       "      <th>Recommended</th>\n",
       "      <td>-0.015614</td>\n",
       "      <td>0.534467</td>\n",
       "      <td>-0.073313</td>\n",
       "      <td>0.087046</td>\n",
       "      <td>-0.076048</td>\n",
       "      <td>0.010862</td>\n",
       "      <td>0.025007</td>\n",
       "      <td>0.651380</td>\n",
       "      <td>0.581473</td>\n",
       "      <td>0.709446</td>\n",
       "      <td>1.000000</td>\n",
       "    </tr>\n",
       "  </tbody>\n",
       "</table>\n",
       "</div>"
      ],
      "text/plain": [
       "                   Airline Name  Overall_Rating  Verified  Type Of Traveller  \\\n",
       "Airline Name           1.000000       -0.022610  0.006762          -0.018686   \n",
       "Overall_Rating        -0.022610        1.000000 -0.204288           0.163941   \n",
       "Verified               0.006762       -0.204288  1.000000          -0.159073   \n",
       "Type Of Traveller     -0.018686        0.163941 -0.159073           1.000000   \n",
       "Seat Type              0.032295       -0.076057 -0.008561           0.036095   \n",
       "Route                 -0.030981        0.041676 -0.076355           0.049901   \n",
       "Month flown           -0.006680        0.027643 -0.053120           0.009462   \n",
       "Seat Comfort          -0.035857        0.382214 -0.009543           0.048675   \n",
       "Food & Beverages      -0.026203        0.295038  0.009813           0.033289   \n",
       "Ground Service        -0.023924        0.450949 -0.009349           0.041037   \n",
       "Recommended           -0.015614        0.534467 -0.073313           0.087046   \n",
       "\n",
       "                   Seat Type     Route  Month flown  Seat Comfort  \\\n",
       "Airline Name        0.032295 -0.030981    -0.006680     -0.035857   \n",
       "Overall_Rating     -0.076057  0.041676     0.027643      0.382214   \n",
       "Verified           -0.008561 -0.076355    -0.053120     -0.009543   \n",
       "Type Of Traveller   0.036095  0.049901     0.009462      0.048675   \n",
       "Seat Type           1.000000 -0.008572    -0.007745     -0.078122   \n",
       "Route              -0.008572  1.000000     0.012067     -0.000635   \n",
       "Month flown        -0.007745  0.012067     1.000000      0.021298   \n",
       "Seat Comfort       -0.078122 -0.000635     0.021298      1.000000   \n",
       "Food & Beverages   -0.080341  0.006327     0.015861      0.635971   \n",
       "Ground Service     -0.061260 -0.003002     0.011897      0.672536   \n",
       "Recommended        -0.076048  0.010862     0.025007      0.651380   \n",
       "\n",
       "                   Food & Beverages  Ground Service  Recommended  \n",
       "Airline Name              -0.026203       -0.023924    -0.015614  \n",
       "Overall_Rating             0.295038        0.450949     0.534467  \n",
       "Verified                   0.009813       -0.009349    -0.073313  \n",
       "Type Of Traveller          0.033289        0.041037     0.087046  \n",
       "Seat Type                 -0.080341       -0.061260    -0.076048  \n",
       "Route                      0.006327       -0.003002     0.010862  \n",
       "Month flown                0.015861        0.011897     0.025007  \n",
       "Seat Comfort               0.635971        0.672536     0.651380  \n",
       "Food & Beverages           1.000000        0.558308     0.581473  \n",
       "Ground Service             0.558308        1.000000     0.709446  \n",
       "Recommended                0.581473        0.709446     1.000000  "
      ]
     },
     "execution_count": 24,
     "metadata": {},
     "output_type": "execute_result"
    }
   ],
   "source": [
    "df.corr(numeric_only=True) #corretion between the columns"
   ]
  },
  {
   "cell_type": "code",
   "execution_count": 25,
   "id": "0c1afec3",
   "metadata": {},
   "outputs": [
    {
     "data": {
      "text/plain": [
       "<Axes: >"
      ]
     },
     "execution_count": 25,
     "metadata": {},
     "output_type": "execute_result"
    },
    {
     "data": {
      "image/png": "[encoded data removed]",
      "text/plain": [
       "<Figure size 640x480 with 2 Axes>"
      ]
     },
     "metadata": {},
     "output_type": "display_data"
    }
   ],
   "source": [
    "sns.heatmap(df.corr(numeric_only=True)) #it will gives relation between the columns"
   ]
  },
  {
   "cell_type": "code",
   "execution_count": 26,
   "id": "e8af9e4c",
   "metadata": {},
   "outputs": [
    {
     "data": {
      "text/plain": [
       "<Axes: >"
      ]
     },
     "execution_count": 26,
     "metadata": {},
     "output_type": "execute_result"
    },
    {
     "data": {
      "image/png": "[encoded data removed]",
      "text/plain": [
       "<Figure size 640x480 with 1 Axes>"
      ]
     },
     "metadata": {},
     "output_type": "display_data"
    }
   ],
   "source": [
    "sns.boxplot(df[\"Airline Name\"])"
   ]
  },
  {
   "cell_type": "code",
   "execution_count": 27,
   "id": "0a99c610",
   "metadata": {},
   "outputs": [
    {
     "data": {
      "text/html": [
       "<div>\n",
       "<style scoped>\n",
       "    .dataframe tbody tr th:only-of-type {\n",
       "        vertical-align: middle;\n",
       "    }\n",
       "\n",
       "    .dataframe tbody tr th {\n",
       "        vertical-align: top;\n",
       "    }\n",
       "\n",
       "    .dataframe thead th {\n",
       "        text-align: right;\n",
       "    }\n",
       "</style>\n",
       "<table border=\"1\" class=\"dataframe\">\n",
       "  <thead>\n",
       "    <tr style=\"text-align: right;\">\n",
       "      <th></th>\n",
       "      <th>Airline Name</th>\n",
       "      <th>Overall_Rating</th>\n",
       "      <th>Verified</th>\n",
       "      <th>Type Of Traveller</th>\n",
       "      <th>Seat Type</th>\n",
       "      <th>Route</th>\n",
       "      <th>Month flown</th>\n",
       "      <th>Year flown</th>\n",
       "      <th>Seat Comfort</th>\n",
       "      <th>Food &amp; Beverages</th>\n",
       "      <th>Ground Service</th>\n",
       "      <th>Recommended</th>\n",
       "    </tr>\n",
       "  </thead>\n",
       "  <tbody>\n",
       "    <tr>\n",
       "      <th>0</th>\n",
       "      <td>0</td>\n",
       "      <td>8</td>\n",
       "      <td>1</td>\n",
       "      <td>3</td>\n",
       "      <td>1</td>\n",
       "      <td>8585</td>\n",
       "      <td>9</td>\n",
       "      <td>2019</td>\n",
       "      <td>4.0</td>\n",
       "      <td>4.000000</td>\n",
       "      <td>4.0</td>\n",
       "      <td>1</td>\n",
       "    </tr>\n",
       "    <tr>\n",
       "      <th>1</th>\n",
       "      <td>0</td>\n",
       "      <td>0</td>\n",
       "      <td>1</td>\n",
       "      <td>3</td>\n",
       "      <td>1</td>\n",
       "      <td>8584</td>\n",
       "      <td>6</td>\n",
       "      <td>2019</td>\n",
       "      <td>2.0</td>\n",
       "      <td>1.000000</td>\n",
       "      <td>1.0</td>\n",
       "      <td>0</td>\n",
       "    </tr>\n",
       "    <tr>\n",
       "      <th>2</th>\n",
       "      <td>0</td>\n",
       "      <td>0</td>\n",
       "      <td>1</td>\n",
       "      <td>3</td>\n",
       "      <td>1</td>\n",
       "      <td>482</td>\n",
       "      <td>6</td>\n",
       "      <td>2019</td>\n",
       "      <td>2.0</td>\n",
       "      <td>1.000000</td>\n",
       "      <td>1.0</td>\n",
       "      <td>0</td>\n",
       "    </tr>\n",
       "    <tr>\n",
       "      <th>3</th>\n",
       "      <td>4</td>\n",
       "      <td>0</td>\n",
       "      <td>0</td>\n",
       "      <td>3</td>\n",
       "      <td>1</td>\n",
       "      <td>4256</td>\n",
       "      <td>11</td>\n",
       "      <td>2019</td>\n",
       "      <td>1.0</td>\n",
       "      <td>2.553586</td>\n",
       "      <td>1.0</td>\n",
       "      <td>0</td>\n",
       "    </tr>\n",
       "    <tr>\n",
       "      <th>4</th>\n",
       "      <td>4</td>\n",
       "      <td>0</td>\n",
       "      <td>1</td>\n",
       "      <td>1</td>\n",
       "      <td>1</td>\n",
       "      <td>11778</td>\n",
       "      <td>11</td>\n",
       "      <td>2019</td>\n",
       "      <td>1.0</td>\n",
       "      <td>1.000000</td>\n",
       "      <td>1.0</td>\n",
       "      <td>0</td>\n",
       "    </tr>\n",
       "  </tbody>\n",
       "</table>\n",
       "</div>"
      ],
      "text/plain": [
       "   Airline Name  Overall_Rating  Verified  Type Of Traveller  Seat Type  \\\n",
       "0             0               8         1                  3          1   \n",
       "1             0               0         1                  3          1   \n",
       "2             0               0         1                  3          1   \n",
       "3             4               0         0                  3          1   \n",
       "4             4               0         1                  1          1   \n",
       "\n",
       "   Route  Month flown Year flown  Seat Comfort  Food & Beverages  \\\n",
       "0   8585            9       2019           4.0          4.000000   \n",
       "1   8584            6       2019           2.0          1.000000   \n",
       "2    482            6       2019           2.0          1.000000   \n",
       "3   4256           11       2019           1.0          2.553586   \n",
       "4  11778           11       2019           1.0          1.000000   \n",
       "\n",
       "   Ground Service  Recommended  \n",
       "0             4.0            1  \n",
       "1             1.0            0  \n",
       "2             1.0            0  \n",
       "3             1.0            0  \n",
       "4             1.0            0  "
      ]
     },
     "execution_count": 27,
     "metadata": {},
     "output_type": "execute_result"
    }
   ],
   "source": [
    "df.head()"
   ]
  },
  {
   "cell_type": "code",
   "execution_count": 28,
   "id": "3deaa9bb",
   "metadata": {},
   "outputs": [
    {
     "data": {
      "text/plain": [
       "<Axes: >"
      ]
     },
     "execution_count": 28,
     "metadata": {},
     "output_type": "execute_result"
    },
    {
     "data": {
      "image/png": "[encoded data removed]",
      "text/plain": [
       "<Figure size 640x480 with 1 Axes>"
      ]
     },
     "metadata": {},
     "output_type": "display_data"
    }
   ],
   "source": [
    "sns.boxplot(df[\"Overall_Rating\"]) #to find outlayers we are plotting the boxplot"
   ]
  },
  {
   "cell_type": "code",
   "execution_count": 29,
   "id": "3f0d9088",
   "metadata": {},
   "outputs": [
    {
     "data": {
      "text/plain": [
       "<Axes: >"
      ]
     },
     "execution_count": 29,
     "metadata": {},
     "output_type": "execute_result"
    },
    {
     "data": {
      "image/png": "[encoded data removed]",
      "text/plain": [
       "<Figure size 640x480 with 1 Axes>"
      ]
     },
     "metadata": {},
     "output_type": "display_data"
    }
   ],
   "source": [
    "sns.boxplot(df['Verified'])"
   ]
  },
  {
   "cell_type": "code",
   "execution_count": 30,
   "id": "a25f4693",
   "metadata": {},
   "outputs": [
    {
     "data": {
      "text/plain": [
       "<Axes: >"
      ]
     },
     "execution_count": 30,
     "metadata": {},
     "output_type": "execute_result"
    },
    {
     "data": {
      "image/png": "[encoded data removed]",
      "text/plain": [
       "<Figure size 640x480 with 1 Axes>"
      ]
     },
     "metadata": {},
     "output_type": "display_data"
    }
   ],
   "source": [
    "sns.boxplot(df['Type Of Traveller'])"
   ]
  },
  {
   "cell_type": "code",
   "execution_count": 31,
   "id": "00da08de",
   "metadata": {},
   "outputs": [
    {
     "data": {
      "text/plain": [
       "<Axes: >"
      ]
     },
     "execution_count": 31,
     "metadata": {},
     "output_type": "execute_result"
    },
    {
     "data": {
      "image/png": "[encoded data removed]",
      "text/plain": [
       "<Figure size 640x480 with 1 Axes>"
      ]
     },
     "metadata": {},
     "output_type": "display_data"
    }
   ],
   "source": [
    "sns.boxplot(df['Ground Service'])"
   ]
  },
  {
   "cell_type": "code",
   "execution_count": 32,
   "id": "e1581d16",
   "metadata": {},
   "outputs": [
    {
     "data": {
      "text/plain": [
       "<Axes: >"
      ]
     },
     "execution_count": 32,
     "metadata": {},
     "output_type": "execute_result"
    },
    {
     "data": {
      "image/png": "[encoded data removed]",
      "text/plain": [
       "<Figure size 640x480 with 1 Axes>"
      ]
     },
     "metadata": {},
     "output_type": "display_data"
    }
   ],
   "source": [
    "sns.boxplot(df['Recommended'])"
   ]
  },
  {
   "cell_type": "markdown",
   "id": "21502995",
   "metadata": {},
   "source": [
    "# SPLITTING THE INDEPENDENT AND DEPENDENT VARIABLE"
   ]
  },
  {
   "cell_type": "code",
   "execution_count": 33,
   "id": "1d6c658b",
   "metadata": {},
   "outputs": [],
   "source": [
    "x=df.iloc[:,:11] #independent variable\n",
    "y=df[\"Recommended\"]  #dependent variable"
   ]
  },
  {
   "cell_type": "code",
   "execution_count": 34,
   "id": "10f4db88",
   "metadata": {},
   "outputs": [
    {
     "data": {
      "text/html": [
       "<div>\n",
       "<style scoped>\n",
       "    .dataframe tbody tr th:only-of-type {\n",
       "        vertical-align: middle;\n",
       "    }\n",
       "\n",
       "    .dataframe tbody tr th {\n",
       "        vertical-align: top;\n",
       "    }\n",
       "\n",
       "    .dataframe thead th {\n",
       "        text-align: right;\n",
       "    }\n",
       "</style>\n",
       "<table border=\"1\" class=\"dataframe\">\n",
       "  <thead>\n",
       "    <tr style=\"text-align: right;\">\n",
       "      <th></th>\n",
       "      <th>Airline Name</th>\n",
       "      <th>Overall_Rating</th>\n",
       "      <th>Verified</th>\n",
       "      <th>Type Of Traveller</th>\n",
       "      <th>Seat Type</th>\n",
       "      <th>Route</th>\n",
       "      <th>Month flown</th>\n",
       "      <th>Year flown</th>\n",
       "      <th>Seat Comfort</th>\n",
       "      <th>Food &amp; Beverages</th>\n",
       "      <th>Ground Service</th>\n",
       "    </tr>\n",
       "  </thead>\n",
       "  <tbody>\n",
       "    <tr>\n",
       "      <th>0</th>\n",
       "      <td>0</td>\n",
       "      <td>8</td>\n",
       "      <td>1</td>\n",
       "      <td>3</td>\n",
       "      <td>1</td>\n",
       "      <td>8585</td>\n",
       "      <td>9</td>\n",
       "      <td>2019</td>\n",
       "      <td>4.0</td>\n",
       "      <td>4.000000</td>\n",
       "      <td>4.0</td>\n",
       "    </tr>\n",
       "    <tr>\n",
       "      <th>1</th>\n",
       "      <td>0</td>\n",
       "      <td>0</td>\n",
       "      <td>1</td>\n",
       "      <td>3</td>\n",
       "      <td>1</td>\n",
       "      <td>8584</td>\n",
       "      <td>6</td>\n",
       "      <td>2019</td>\n",
       "      <td>2.0</td>\n",
       "      <td>1.000000</td>\n",
       "      <td>1.0</td>\n",
       "    </tr>\n",
       "    <tr>\n",
       "      <th>2</th>\n",
       "      <td>0</td>\n",
       "      <td>0</td>\n",
       "      <td>1</td>\n",
       "      <td>3</td>\n",
       "      <td>1</td>\n",
       "      <td>482</td>\n",
       "      <td>6</td>\n",
       "      <td>2019</td>\n",
       "      <td>2.0</td>\n",
       "      <td>1.000000</td>\n",
       "      <td>1.0</td>\n",
       "    </tr>\n",
       "    <tr>\n",
       "      <th>3</th>\n",
       "      <td>4</td>\n",
       "      <td>0</td>\n",
       "      <td>0</td>\n",
       "      <td>3</td>\n",
       "      <td>1</td>\n",
       "      <td>4256</td>\n",
       "      <td>11</td>\n",
       "      <td>2019</td>\n",
       "      <td>1.0</td>\n",
       "      <td>2.553586</td>\n",
       "      <td>1.0</td>\n",
       "    </tr>\n",
       "    <tr>\n",
       "      <th>4</th>\n",
       "      <td>4</td>\n",
       "      <td>0</td>\n",
       "      <td>1</td>\n",
       "      <td>1</td>\n",
       "      <td>1</td>\n",
       "      <td>11778</td>\n",
       "      <td>11</td>\n",
       "      <td>2019</td>\n",
       "      <td>1.0</td>\n",
       "      <td>1.000000</td>\n",
       "      <td>1.0</td>\n",
       "    </tr>\n",
       "  </tbody>\n",
       "</table>\n",
       "</div>"
      ],
      "text/plain": [
       "   Airline Name  Overall_Rating  Verified  Type Of Traveller  Seat Type  \\\n",
       "0             0               8         1                  3          1   \n",
       "1             0               0         1                  3          1   \n",
       "2             0               0         1                  3          1   \n",
       "3             4               0         0                  3          1   \n",
       "4             4               0         1                  1          1   \n",
       "\n",
       "   Route  Month flown Year flown  Seat Comfort  Food & Beverages  \\\n",
       "0   8585            9       2019           4.0          4.000000   \n",
       "1   8584            6       2019           2.0          1.000000   \n",
       "2    482            6       2019           2.0          1.000000   \n",
       "3   4256           11       2019           1.0          2.553586   \n",
       "4  11778           11       2019           1.0          1.000000   \n",
       "\n",
       "   Ground Service  \n",
       "0             4.0  \n",
       "1             1.0  \n",
       "2             1.0  \n",
       "3             1.0  \n",
       "4             1.0  "
      ]
     },
     "execution_count": 34,
     "metadata": {},
     "output_type": "execute_result"
    }
   ],
   "source": [
    "x.head()"
   ]
  },
  {
   "cell_type": "code",
   "execution_count": 35,
   "id": "bafa1af4",
   "metadata": {},
   "outputs": [
    {
     "data": {
      "text/plain": [
       "0    1\n",
       "1    0\n",
       "2    0\n",
       "3    0\n",
       "4    0\n",
       "Name: Recommended, dtype: int32"
      ]
     },
     "execution_count": 35,
     "metadata": {},
     "output_type": "execute_result"
    }
   ],
   "source": [
    "y.head()"
   ]
  },
  {
   "cell_type": "code",
   "execution_count": 36,
   "id": "3de1038b",
   "metadata": {},
   "outputs": [
    {
     "data": {
      "text/plain": [
       "(23171, 11)"
      ]
     },
     "execution_count": 36,
     "metadata": {},
     "output_type": "execute_result"
    }
   ],
   "source": [
    "x.shape"
   ]
  },
  {
   "cell_type": "code",
   "execution_count": 37,
   "id": "82004a09",
   "metadata": {},
   "outputs": [
    {
     "data": {
      "text/plain": [
       "(23171,)"
      ]
     },
     "execution_count": 37,
     "metadata": {},
     "output_type": "execute_result"
    }
   ],
   "source": [
    "y.shape"
   ]
  },
  {
   "cell_type": "code",
   "execution_count": 38,
   "id": "b5255942",
   "metadata": {},
   "outputs": [
    {
     "data": {
      "text/plain": [
       "0    15364\n",
       "1     7807\n",
       "Name: Recommended, dtype: int64"
      ]
     },
     "execution_count": 38,
     "metadata": {},
     "output_type": "execute_result"
    }
   ],
   "source": [
    "y.value_counts()"
   ]
  },
  {
   "cell_type": "code",
   "execution_count": 39,
   "id": "e8bf5840",
   "metadata": {},
   "outputs": [
    {
     "data": {
      "text/html": [
       "<div>\n",
       "<style scoped>\n",
       "    .dataframe tbody tr th:only-of-type {\n",
       "        vertical-align: middle;\n",
       "    }\n",
       "\n",
       "    .dataframe tbody tr th {\n",
       "        vertical-align: top;\n",
       "    }\n",
       "\n",
       "    .dataframe thead th {\n",
       "        text-align: right;\n",
       "    }\n",
       "</style>\n",
       "<table border=\"1\" class=\"dataframe\">\n",
       "  <thead>\n",
       "    <tr style=\"text-align: right;\">\n",
       "      <th></th>\n",
       "      <th>Airline Name</th>\n",
       "      <th>Overall_Rating</th>\n",
       "      <th>Verified</th>\n",
       "      <th>Type Of Traveller</th>\n",
       "      <th>Seat Type</th>\n",
       "      <th>Route</th>\n",
       "      <th>Month flown</th>\n",
       "      <th>Year flown</th>\n",
       "      <th>Seat Comfort</th>\n",
       "      <th>Food &amp; Beverages</th>\n",
       "      <th>Ground Service</th>\n",
       "    </tr>\n",
       "  </thead>\n",
       "  <tbody>\n",
       "    <tr>\n",
       "      <th>0</th>\n",
       "      <td>0.000000</td>\n",
       "      <td>0.888889</td>\n",
       "      <td>1.0</td>\n",
       "      <td>1.000000</td>\n",
       "      <td>0.333333</td>\n",
       "      <td>0.630972</td>\n",
       "      <td>0.818182</td>\n",
       "      <td>0.636364</td>\n",
       "      <td>0.800000</td>\n",
       "      <td>0.800000</td>\n",
       "      <td>0.750000</td>\n",
       "    </tr>\n",
       "    <tr>\n",
       "      <th>1</th>\n",
       "      <td>0.000000</td>\n",
       "      <td>0.000000</td>\n",
       "      <td>1.0</td>\n",
       "      <td>1.000000</td>\n",
       "      <td>0.333333</td>\n",
       "      <td>0.630898</td>\n",
       "      <td>0.545455</td>\n",
       "      <td>0.636364</td>\n",
       "      <td>0.400000</td>\n",
       "      <td>0.200000</td>\n",
       "      <td>0.000000</td>\n",
       "    </tr>\n",
       "    <tr>\n",
       "      <th>2</th>\n",
       "      <td>0.000000</td>\n",
       "      <td>0.000000</td>\n",
       "      <td>1.0</td>\n",
       "      <td>1.000000</td>\n",
       "      <td>0.333333</td>\n",
       "      <td>0.035426</td>\n",
       "      <td>0.545455</td>\n",
       "      <td>0.636364</td>\n",
       "      <td>0.400000</td>\n",
       "      <td>0.200000</td>\n",
       "      <td>0.000000</td>\n",
       "    </tr>\n",
       "    <tr>\n",
       "      <th>3</th>\n",
       "      <td>0.008065</td>\n",
       "      <td>0.000000</td>\n",
       "      <td>0.0</td>\n",
       "      <td>1.000000</td>\n",
       "      <td>0.333333</td>\n",
       "      <td>0.312803</td>\n",
       "      <td>1.000000</td>\n",
       "      <td>0.636364</td>\n",
       "      <td>0.200000</td>\n",
       "      <td>0.510717</td>\n",
       "      <td>0.000000</td>\n",
       "    </tr>\n",
       "    <tr>\n",
       "      <th>4</th>\n",
       "      <td>0.008065</td>\n",
       "      <td>0.000000</td>\n",
       "      <td>1.0</td>\n",
       "      <td>0.333333</td>\n",
       "      <td>0.333333</td>\n",
       "      <td>0.865648</td>\n",
       "      <td>1.000000</td>\n",
       "      <td>0.636364</td>\n",
       "      <td>0.200000</td>\n",
       "      <td>0.200000</td>\n",
       "      <td>0.000000</td>\n",
       "    </tr>\n",
       "    <tr>\n",
       "      <th>...</th>\n",
       "      <td>...</td>\n",
       "      <td>...</td>\n",
       "      <td>...</td>\n",
       "      <td>...</td>\n",
       "      <td>...</td>\n",
       "      <td>...</td>\n",
       "      <td>...</td>\n",
       "      <td>...</td>\n",
       "      <td>...</td>\n",
       "      <td>...</td>\n",
       "      <td>...</td>\n",
       "    </tr>\n",
       "    <tr>\n",
       "      <th>23166</th>\n",
       "      <td>0.981855</td>\n",
       "      <td>0.000000</td>\n",
       "      <td>0.0</td>\n",
       "      <td>0.333333</td>\n",
       "      <td>0.333333</td>\n",
       "      <td>0.094517</td>\n",
       "      <td>0.545455</td>\n",
       "      <td>0.909091</td>\n",
       "      <td>0.400000</td>\n",
       "      <td>0.510717</td>\n",
       "      <td>0.000000</td>\n",
       "    </tr>\n",
       "    <tr>\n",
       "      <th>23167</th>\n",
       "      <td>0.981855</td>\n",
       "      <td>0.000000</td>\n",
       "      <td>1.0</td>\n",
       "      <td>1.000000</td>\n",
       "      <td>0.333333</td>\n",
       "      <td>0.863296</td>\n",
       "      <td>0.545455</td>\n",
       "      <td>0.909091</td>\n",
       "      <td>0.523664</td>\n",
       "      <td>0.510717</td>\n",
       "      <td>0.338435</td>\n",
       "    </tr>\n",
       "    <tr>\n",
       "      <th>23168</th>\n",
       "      <td>0.981855</td>\n",
       "      <td>0.222222</td>\n",
       "      <td>1.0</td>\n",
       "      <td>0.000000</td>\n",
       "      <td>0.333333</td>\n",
       "      <td>0.094517</td>\n",
       "      <td>0.727273</td>\n",
       "      <td>0.909091</td>\n",
       "      <td>0.400000</td>\n",
       "      <td>0.400000</td>\n",
       "      <td>0.000000</td>\n",
       "    </tr>\n",
       "    <tr>\n",
       "      <th>23169</th>\n",
       "      <td>0.981855</td>\n",
       "      <td>0.555556</td>\n",
       "      <td>1.0</td>\n",
       "      <td>0.000000</td>\n",
       "      <td>0.000000</td>\n",
       "      <td>0.927826</td>\n",
       "      <td>0.727273</td>\n",
       "      <td>0.909091</td>\n",
       "      <td>0.600000</td>\n",
       "      <td>0.600000</td>\n",
       "      <td>0.000000</td>\n",
       "    </tr>\n",
       "    <tr>\n",
       "      <th>23170</th>\n",
       "      <td>0.981855</td>\n",
       "      <td>0.000000</td>\n",
       "      <td>1.0</td>\n",
       "      <td>1.000000</td>\n",
       "      <td>0.333333</td>\n",
       "      <td>0.863296</td>\n",
       "      <td>0.727273</td>\n",
       "      <td>0.909091</td>\n",
       "      <td>0.523664</td>\n",
       "      <td>0.510717</td>\n",
       "      <td>0.000000</td>\n",
       "    </tr>\n",
       "  </tbody>\n",
       "</table>\n",
       "<p>23171 rows × 11 columns</p>\n",
       "</div>"
      ],
      "text/plain": [
       "       Airline Name  Overall_Rating  Verified  Type Of Traveller  Seat Type  \\\n",
       "0          0.000000        0.888889       1.0           1.000000   0.333333   \n",
       "1          0.000000        0.000000       1.0           1.000000   0.333333   \n",
       "2          0.000000        0.000000       1.0           1.000000   0.333333   \n",
       "3          0.008065        0.000000       0.0           1.000000   0.333333   \n",
       "4          0.008065        0.000000       1.0           0.333333   0.333333   \n",
       "...             ...             ...       ...                ...        ...   \n",
       "23166      0.981855        0.000000       0.0           0.333333   0.333333   \n",
       "23167      0.981855        0.000000       1.0           1.000000   0.333333   \n",
       "23168      0.981855        0.222222       1.0           0.000000   0.333333   \n",
       "23169      0.981855        0.555556       1.0           0.000000   0.000000   \n",
       "23170      0.981855        0.000000       1.0           1.000000   0.333333   \n",
       "\n",
       "          Route  Month flown  Year flown  Seat Comfort  Food & Beverages  \\\n",
       "0      0.630972     0.818182    0.636364      0.800000          0.800000   \n",
       "1      0.630898     0.545455    0.636364      0.400000          0.200000   \n",
       "2      0.035426     0.545455    0.636364      0.400000          0.200000   \n",
       "3      0.312803     1.000000    0.636364      0.200000          0.510717   \n",
       "4      0.865648     1.000000    0.636364      0.200000          0.200000   \n",
       "...         ...          ...         ...           ...               ...   \n",
       "23166  0.094517     0.545455    0.909091      0.400000          0.510717   \n",
       "23167  0.863296     0.545455    0.909091      0.523664          0.510717   \n",
       "23168  0.094517     0.727273    0.909091      0.400000          0.400000   \n",
       "23169  0.927826     0.727273    0.909091      0.600000          0.600000   \n",
       "23170  0.863296     0.727273    0.909091      0.523664          0.510717   \n",
       "\n",
       "       Ground Service  \n",
       "0            0.750000  \n",
       "1            0.000000  \n",
       "2            0.000000  \n",
       "3            0.000000  \n",
       "4            0.000000  \n",
       "...               ...  \n",
       "23166        0.000000  \n",
       "23167        0.338435  \n",
       "23168        0.000000  \n",
       "23169        0.000000  \n",
       "23170        0.000000  \n",
       "\n",
       "[23171 rows x 11 columns]"
      ]
     },
     "execution_count": 39,
     "metadata": {},
     "output_type": "execute_result"
    }
   ],
   "source": [
    "ms=MinMaxScaler()\n",
    "x_scaled=pd.DataFrame(ms.fit_transform(x),columns=x.columns)  #feature scaling\n",
    "x_scaled"
   ]
  },
  {
   "cell_type": "code",
   "execution_count": 40,
   "id": "8d5dba9d",
   "metadata": {},
   "outputs": [],
   "source": [
    "pickle.dump(ms,open(\"ms.pkl\",\"wb\"))"
   ]
  },
  {
   "cell_type": "code",
   "execution_count": 41,
   "id": "e7ab755e",
   "metadata": {},
   "outputs": [],
   "source": [
    "#splitting the training data and testing data\n",
    "x_train,x_test,y_train,y_test=train_test_split(x_scaled,y,test_size=0.2,random_state=None)"
   ]
  },
  {
   "cell_type": "code",
   "execution_count": 42,
   "id": "e81ed954",
   "metadata": {},
   "outputs": [],
   "source": [
    "'''we are dealing with imbalanced data\n",
    "so to balance that data we use smote technique'''\n",
    "smote=SMOTE()\n",
    "x_train_smote,y_train_smote=smote.fit_resample(x_train,y_train)"
   ]
  },
  {
   "cell_type": "code",
   "execution_count": 43,
   "id": "c7186610",
   "metadata": {},
   "outputs": [
    {
     "data": {
      "text/plain": [
       "(24600, 11)"
      ]
     },
     "execution_count": 43,
     "metadata": {},
     "output_type": "execute_result"
    }
   ],
   "source": [
    "x_train_smote.shape"
   ]
  },
  {
   "cell_type": "code",
   "execution_count": 44,
   "id": "e8c2f98b",
   "metadata": {},
   "outputs": [
    {
     "data": {
      "text/plain": [
       "(24600,)"
      ]
     },
     "execution_count": 44,
     "metadata": {},
     "output_type": "execute_result"
    }
   ],
   "source": [
    "y_train_smote.shape"
   ]
  },
  {
   "cell_type": "code",
   "execution_count": 45,
   "id": "8f752a20",
   "metadata": {},
   "outputs": [
    {
     "data": {
      "text/plain": [
       "1    12300\n",
       "0    12300\n",
       "Name: Recommended, dtype: int64"
      ]
     },
     "execution_count": 45,
     "metadata": {},
     "output_type": "execute_result"
    }
   ],
   "source": [
    "y_train_smote.value_counts() #now the data is balanced"
   ]
  },
  {
   "cell_type": "markdown",
   "id": "6aff7aca",
   "metadata": {},
   "source": [
    "# MODEL BUILDING"
   ]
  },
  {
   "cell_type": "code",
   "execution_count": 46,
   "id": "c8b4f47f",
   "metadata": {},
   "outputs": [
    {
     "data": {
      "text/html": [
       "<style>#sk-container-id-1 {color: black;background-color: white;}#sk-container-id-1 pre{padding: 0;}#sk-container-id-1 div.sk-toggleable {background-color: white;}#sk-container-id-1 label.sk-toggleable__label {cursor: pointer;display: block;width: 100%;margin-bottom: 0;padding: 0.3em;box-sizing: border-box;text-align: center;}#sk-container-id-1 label.sk-toggleable__label-arrow:before {content: \"▸\";float: left;margin-right: 0.25em;color: #696969;}#sk-container-id-1 label.sk-toggleable__label-arrow:hover:before {color: black;}#sk-container-id-1 div.sk-estimator:hover label.sk-toggleable__label-arrow:before {color: black;}#sk-container-id-1 div.sk-toggleable__content {max-height: 0;max-width: 0;overflow: hidden;text-align: left;background-color: #f0f8ff;}#sk-container-id-1 div.sk-toggleable__content pre {margin: 0.2em;color: black;border-radius: 0.25em;background-color: #f0f8ff;}#sk-container-id-1 input.sk-toggleable__control:checked~div.sk-toggleable__content {max-height: 200px;max-width: 100%;overflow: auto;}#sk-container-id-1 input.sk-toggleable__control:checked~label.sk-toggleable__label-arrow:before {content: \"▾\";}#sk-container-id-1 div.sk-estimator input.sk-toggleable__control:checked~label.sk-toggleable__label {background-color: #d4ebff;}#sk-container-id-1 div.sk-label input.sk-toggleable__control:checked~label.sk-toggleable__label {background-color: #d4ebff;}#sk-container-id-1 input.sk-hidden--visually {border: 0;clip: rect(1px 1px 1px 1px);clip: rect(1px, 1px, 1px, 1px);height: 1px;margin: -1px;overflow: hidden;padding: 0;position: absolute;width: 1px;}#sk-container-id-1 div.sk-estimator {font-family: monospace;background-color: #f0f8ff;border: 1px dotted black;border-radius: 0.25em;box-sizing: border-box;margin-bottom: 0.5em;}#sk-container-id-1 div.sk-estimator:hover {background-color: #d4ebff;}#sk-container-id-1 div.sk-parallel-item::after {content: \"\";width: 100%;border-bottom: 1px solid gray;flex-grow: 1;}#sk-container-id-1 div.sk-label:hover label.sk-toggleable__label {background-color: #d4ebff;}#sk-container-id-1 div.sk-serial::before {content: \"\";position: absolute;border-left: 1px solid gray;box-sizing: border-box;top: 0;bottom: 0;left: 50%;z-index: 0;}#sk-container-id-1 div.sk-serial {display: flex;flex-direction: column;align-items: center;background-color: white;padding-right: 0.2em;padding-left: 0.2em;position: relative;}#sk-container-id-1 div.sk-item {position: relative;z-index: 1;}#sk-container-id-1 div.sk-parallel {display: flex;align-items: stretch;justify-content: center;background-color: white;position: relative;}#sk-container-id-1 div.sk-item::before, #sk-container-id-1 div.sk-parallel-item::before {content: \"\";position: absolute;border-left: 1px solid gray;box-sizing: border-box;top: 0;bottom: 0;left: 50%;z-index: -1;}#sk-container-id-1 div.sk-parallel-item {display: flex;flex-direction: column;z-index: 1;position: relative;background-color: white;}#sk-container-id-1 div.sk-parallel-item:first-child::after {align-self: flex-end;width: 50%;}#sk-container-id-1 div.sk-parallel-item:last-child::after {align-self: flex-start;width: 50%;}#sk-container-id-1 div.sk-parallel-item:only-child::after {width: 0;}#sk-container-id-1 div.sk-dashed-wrapped {border: 1px dashed gray;margin: 0 0.4em 0.5em 0.4em;box-sizing: border-box;padding-bottom: 0.4em;background-color: white;}#sk-container-id-1 div.sk-label label {font-family: monospace;font-weight: bold;display: inline-block;line-height: 1.2em;}#sk-container-id-1 div.sk-label-container {text-align: center;}#sk-container-id-1 div.sk-container {/* jupyter's `normalize.less` sets `[hidden] { display: none; }` but bootstrap.min.css set `[hidden] { display: none !important; }` so we also need the `!important` here to be able to override the default hidden behavior on the sphinx rendered scikit-learn.org. See: https://github.com/scikit-learn/scikit-learn/issues/21755 */display: inline-block !important;position: relative;}#sk-container-id-1 div.sk-text-repr-fallback {display: none;}</style><div id=\"sk-container-id-1\" class=\"sk-top-container\"><div class=\"sk-text-repr-fallback\"><pre>KNeighborsClassifier()</pre><b>In a Jupyter environment, please rerun this cell to show the HTML representation or trust the notebook. <br />On GitHub, the HTML representation is unable to render, please try loading this page with nbviewer.org.</b></div><div class=\"sk-container\" hidden><div class=\"sk-item\"><div class=\"sk-estimator sk-toggleable\"><input class=\"sk-toggleable__control sk-hidden--visually\" id=\"sk-estimator-id-1\" type=\"checkbox\" checked><label for=\"sk-estimator-id-1\" class=\"sk-toggleable__label sk-toggleable__label-arrow\">KNeighborsClassifier</label><div class=\"sk-toggleable__content\"><pre>KNeighborsClassifier()</pre></div></div></div></div></div>"
      ],
      "text/plain": [
       "KNeighborsClassifier()"
      ]
     },
     "execution_count": 46,
     "metadata": {},
     "output_type": "execute_result"
    }
   ],
   "source": [
    "knn=KNeighborsClassifier()\n",
    "knn.fit(x_train_smote,y_train_smote)"
   ]
  },
  {
   "cell_type": "code",
   "execution_count": 47,
   "id": "a5524708",
   "metadata": {},
   "outputs": [],
   "source": [
    "pred=knn.predict(x_test)"
   ]
  },
  {
   "cell_type": "code",
   "execution_count": 48,
   "id": "1c6b53cb",
   "metadata": {},
   "outputs": [
    {
     "data": {
      "text/plain": [
       "array([0, 0, 0, ..., 0, 0, 0])"
      ]
     },
     "execution_count": 48,
     "metadata": {},
     "output_type": "execute_result"
    }
   ],
   "source": [
    "pred"
   ]
  },
  {
   "cell_type": "code",
   "execution_count": 49,
   "id": "9b771e5e",
   "metadata": {},
   "outputs": [
    {
     "data": {
      "text/plain": [
       "19524    0\n",
       "3340     0\n",
       "15579    0\n",
       "12885    0\n",
       "22621    0\n",
       "        ..\n",
       "12953    1\n",
       "4720     0\n",
       "19745    0\n",
       "14053    0\n",
       "17811    0\n",
       "Name: Recommended, Length: 4635, dtype: int32"
      ]
     },
     "execution_count": 49,
     "metadata": {},
     "output_type": "execute_result"
    }
   ],
   "source": [
    "y_test"
   ]
  },
  {
   "cell_type": "markdown",
   "id": "6d98c4fa",
   "metadata": {},
   "source": [
    "# Evaluation Metrics"
   ]
  },
  {
   "cell_type": "code",
   "execution_count": 50,
   "id": "658df57c",
   "metadata": {},
   "outputs": [
    {
     "data": {
      "text/plain": [
       "0.9411003236245955"
      ]
     },
     "execution_count": 50,
     "metadata": {},
     "output_type": "execute_result"
    }
   ],
   "source": [
    "accuracy_score(pred,y_test)"
   ]
  },
  {
   "cell_type": "code",
   "execution_count": 51,
   "id": "0b85df24",
   "metadata": {},
   "outputs": [
    {
     "name": "stdout",
     "output_type": "stream",
     "text": [
      "              precision    recall  f1-score   support\n",
      "\n",
      "           0       0.94      0.97      0.95      2979\n",
      "           1       0.94      0.89      0.92      1656\n",
      "\n",
      "    accuracy                           0.94      4635\n",
      "   macro avg       0.94      0.93      0.94      4635\n",
      "weighted avg       0.94      0.94      0.94      4635\n",
      "\n"
     ]
    }
   ],
   "source": [
    "print(classification_report(pred,y_test))"
   ]
  },
  {
   "cell_type": "code",
   "execution_count": 52,
   "id": "e2c8cd4d",
   "metadata": {},
   "outputs": [],
   "source": [
    "pickle.dump(knn,open(\"model.pkl\",\"wb\"))"
   ]
  },
  {
   "cell_type": "code",
   "execution_count": null,
   "id": "01617c1b",
   "metadata": {},
   "outputs": [],
   "source": []
  }
 ],
 "metadata": {
  "kernelspec": {
   "display_name": "Python 3 (ipykernel)",
   "language": "python",
   "name": "python3"
  },
  "language_info": {
   "codemirror_mode": {
    "name": "ipython",
    "version": 3
   },
   "file_extension": ".py",
   "mimetype": "text/x-python",
   "name": "python",
   "nbconvert_exporter": "python",
   "pygments_lexer": "ipython3",
   "version": "3.11.4"
  }
 },
 "nbformat": 4,
 "nbformat_minor": 5
}
